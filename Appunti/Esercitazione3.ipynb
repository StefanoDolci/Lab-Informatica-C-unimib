{
 "cells": [
  {
   "cell_type": "code",
   "execution_count": null,
   "metadata": {},
   "outputs": [],
   "source": []
  },
  {
   "cell_type": "markdown",
   "metadata": {},
   "source": [
    "Appunti terza esercitazione LAB inf \n",
    "\n",
    "ARGOMENTI:\n",
    "\n",
    "vettori  int vett [size];\n",
    "        float vett [size] = { , , , , }; cosi inizializzo un vettore float \n",
    "\n",
    "funzioni sono definite da:\n",
    "1. Dichiarazione: tipo, nome, zero \n",
    "2. Corpo: istruzioni"
   ]
  },
  {
   "cell_type": "code",
   "execution_count": null,
   "metadata": {
    "vscode": {
     "languageId": "c"
    }
   },
   "outputs": [],
   "source": [
    "int Funzione(int x){\n",
    "    ...\n",
    "    return x;\n",
    "}"
   ]
  },
  {
   "cell_type": "markdown",
   "metadata": {},
   "source": [
    "vanno dichairate allo stesso livello del main, prima nel cosidetto top-level\n",
    "\n",
    "nel main poi per chiamare una funzione si scriverà:\n",
    "Funzione();\n",
    " un esempio di funzione somma \n"
   ]
  },
  {
   "cell_type": "code",
   "execution_count": null,
   "metadata": {
    "vscode": {
     "languageId": "c"
    }
   },
   "outputs": [],
   "source": [
    "int Somma( int a, int b){\n",
    "    return a + b;\n",
    "}"
   ]
  },
  {
   "cell_type": "markdown",
   "metadata": {},
   "source": [
    "Potremmo anche scrivere "
   ]
  },
  {
   "cell_type": "code",
   "execution_count": null,
   "metadata": {
    "vscode": {
     "languageId": "c"
    }
   },
   "outputs": [],
   "source": [
    "void somma (int a, int b){\n",
    "    a+=b;\n",
    "    return;\n",
    "}"
   ]
  },
  {
   "cell_type": "markdown",
   "metadata": {},
   "source": []
  }
 ],
 "metadata": {
  "language_info": {
   "name": "python"
  }
 },
 "nbformat": 4,
 "nbformat_minor": 2
}
